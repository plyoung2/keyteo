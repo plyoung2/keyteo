{
 "cells": [
  {
   "cell_type": "code",
   "execution_count": 169,
   "metadata": {},
   "outputs": [
    {
     "name": "stdout",
     "output_type": "stream",
     "text": [
      "Normalized data: [0.1896551724137931, 0.35344827586206895, 0.9568965517241379, 0.4482758620689655, 0.25862068965517243, 0.09482758620689655, 0.1810344827586207, 0.5689655172413793, 0.7672413793103449, 0.8706896551724138, 0.008620689655172414, 0.0, 0.14655172413793102, 1.0]\n",
      "Standardize data: [-0.6660668764717652, -0.18721879771098268, 1.5769583345655844, 0.09000903736104929, -0.4644466327830146, -0.9432947115437971, -0.691269406932859, 0.4428444638163627, 1.0225026644215205, 1.3249330299546462, -1.1953200161547353, -1.2205225466158292, -0.7920795287772342, 1.7029709868710534]\n"
     ]
    }
   ],
   "source": [
    "from math import sqrt\n",
    "values = [11, 30, 100, 41, 19, 0, 10, 55, 78, 90, -10, -11, 6, 105]\n",
    "def min_max_scaler(values):\n",
    "    minvalue = min(values)\n",
    "    denominator = max(values) - minvalue\n",
    "    values_normalized = []\n",
    "    for value in values:\n",
    "        values_normalized.append((value - minvalue) / denominator)\n",
    "    return values_normalized\n",
    "def standardize(values):\n",
    "    length_values = len(values)\n",
    "    meanvalue = sum(values)/length_values\n",
    "    diffs = [value - meanvalue for value in values]\n",
    "    std = sqrt(sum([diff**2 for diff in diffs]) / length_values)\n",
    "    values_standardized = []\n",
    "    for value in values:\n",
    "        values_standardized.append((value - meanvalue) / std)\n",
    "    return values_standardized\n",
    "print(\"Normalized data:\", min_max_scaler(values))\n",
    "print(\"Standardize data:\", standardize(values))"
   ]
  },
  {
   "cell_type": "code",
   "execution_count": 158,
   "metadata": {},
   "outputs": [
    {
     "data": {
      "text/plain": [
       "[('Repeating', 0.16666666666666666),\n",
       " ('word', 0.3333333333333333),\n",
       " ('English', 0.16666666666666666),\n",
       " ('incorrect', 0.16666666666666666),\n",
       " ('syntactically', 0.16666666666666666)]"
      ]
     },
     "execution_count": 158,
     "metadata": {},
     "output_type": "execute_result"
    }
   ],
   "source": [
    "from nltk.corpus import stopwords\n",
    "from string import punctuation\n",
    "from collections import Counter\n",
    "\n",
    "#Remove stopwords\n",
    "set(stopwords.words('english'))\n",
    "sentence = \"Repeating a word, any word in English is incorrect syntactically.\"\n",
    "stop_words = set(stopwords.words('english')) \n",
    "word_tokens = word_tokenize(sentence) \n",
    "sentence = [w for w in word_tokens if not w in stop_words] \n",
    "sentence = [] \n",
    "for w in word_tokens: \n",
    "    if w not in stop_words: \n",
    "        sentence.append(w)       \n",
    "\n",
    "#Remove punctuation\n",
    "sentence = \" \".join(l for l in sentence if l not in string.punctuation)\n",
    "sentence = word_tokenize(sentence) \n",
    "\n",
    "#Count relative frequency\n",
    "c=Counter(sentence)\n",
    "[(i, c[i] / len(sentence) ) for i in c]"
   ]
  },
  {
   "cell_type": "code",
   "execution_count": 159,
   "metadata": {},
   "outputs": [
    {
     "name": "stdout",
     "output_type": "stream",
     "text": [
      "Recall= 0.6\n",
      "Precision= 0.75\n",
      "Specificity= 0.8571428571428571\n",
      "Accuracy= 0.75\n"
     ]
    }
   ],
   "source": [
    "import collections\n",
    "ConfusionMatrix=collections.namedtuple('ConfusionMatrix','true_positive true_negative false_positive false_negative')\n",
    "m=ConfusionMatrix(30,60,10,20)\n",
    "\n",
    "\n",
    "def compute_recall(m):\n",
    "    recall = m.true_positive / (m.true_positive + m.false_negative)\n",
    "    return recall\n",
    "\n",
    "def compute_precision(m):\n",
    "    precision = m.true_positive / (m.true_positive + m.false_positive)\n",
    "    return precision\n",
    "\n",
    "def compute_specificity(m):\n",
    "    specificity = m.true_negative / (m.true_negative + m.false_positive)\n",
    "    return specificity\n",
    "\n",
    "def compute_accuracy(m):\n",
    "    accuracy = (m.true_positive + m.true_negative) / (m.true_positive + m.true_negative + m.false_positive + m.false_negative)\n",
    "    return accuracy\n",
    "\n",
    "recall=compute_recall(m)\n",
    "precision=compute_precision(m)\n",
    "specificity=compute_specificity(m)\n",
    "accuracy=compute_accuracy(m)\n",
    "\n",
    "print(\"Recall=\",recall)\n",
    "print(\"Precision=\",precision)\n",
    "print(\"Specificity=\",specificity)\n",
    "print(\"Accuracy=\",accuracy)"
   ]
  },
  {
   "cell_type": "code",
   "execution_count": 160,
   "metadata": {},
   "outputs": [
    {
     "name": "stdout",
     "output_type": "stream",
     "text": [
      "[[208  79 130]\n",
      " [252  26 200]]\n"
     ]
    }
   ],
   "source": [
    "import numpy as np\n",
    "matrixA = np.array([[11,3,10,3],\n",
    "                    [20,1,0,1]])\n",
    "matrixB = np.array([[12,1,10],\n",
    "                    [7,4,0],\n",
    "                    [4,5,2],\n",
    "                    [5,2,0]])\n",
    "compute_product= np.array([[0,0,0],\n",
    "                           [0,0,0]])\n",
    "for i in range(len(matrixA)):\n",
    "    for j in range(len(matrixB[0])):\n",
    "        for k in range(len(matrixB)):\n",
    "                compute_product[i][j] += matrixA[i][k]*matrixB[k][j]\n",
    "print(compute_product)"
   ]
  }
 ],
 "metadata": {
  "kernelspec": {
   "display_name": "Python 3",
   "language": "python",
   "name": "python3"
  },
  "language_info": {
   "codemirror_mode": {
    "name": "ipython",
    "version": 3
   },
   "file_extension": ".py",
   "mimetype": "text/x-python",
   "name": "python",
   "nbconvert_exporter": "python",
   "pygments_lexer": "ipython3",
   "version": "3.7.3"
  }
 },
 "nbformat": 4,
 "nbformat_minor": 2
}
